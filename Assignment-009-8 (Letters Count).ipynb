{
 "cells": [
  {
   "cell_type": "markdown",
   "id": "2f456135",
   "metadata": {},
   "source": [
    "     Assignment-009/8 (Letters Count)\n",
    "     \n",
    "     \n",
    "Task:\n",
    "Count the number of each letter in a sentence.\n",
    "\n",
    "    The department you work for undertook a project construction that makes word / text analysis. You are asked to calculate the number of letters or any chars in the sentences entered under this project.\n",
    "    Write a Python program that;\n",
    "\n",
    "    takes a sentence from the user,\n",
    "    counts the number of each letter of the sentence,\n",
    "    collects the letters/chars as a key and the counted numbers as a value in a dictionary.\n",
    "\n"
   ]
  },
  {
   "cell_type": "code",
   "execution_count": 5,
   "id": "3a8da0ff",
   "metadata": {},
   "outputs": [
    {
     "name": "stdout",
     "output_type": "stream",
     "text": [
      "Please write a sentences :Assignment-009/8 completed.\n"
     ]
    },
    {
     "data": {
      "text/plain": [
       "{'A': 1,\n",
       " 's': 2,\n",
       " 'i': 1,\n",
       " 'g': 1,\n",
       " 'n': 2,\n",
       " 'm': 2,\n",
       " 'e': 3,\n",
       " 't': 2,\n",
       " '-': 1,\n",
       " '0': 2,\n",
       " '9': 1,\n",
       " '/': 1,\n",
       " '8': 1,\n",
       " ' ': 1,\n",
       " 'c': 1,\n",
       " 'o': 1,\n",
       " 'p': 1,\n",
       " 'l': 1,\n",
       " 'd': 1,\n",
       " '.': 1}"
      ]
     },
     "execution_count": 5,
     "metadata": {},
     "output_type": "execute_result"
    }
   ],
   "source": [
    "sentence = input(\"Please write a sentences :\")\n",
    "{i: sentence.count(i) for i in sentence}"
   ]
  }
 ],
 "metadata": {
  "kernelspec": {
   "display_name": "Python 3",
   "language": "python",
   "name": "python3"
  },
  "language_info": {
   "codemirror_mode": {
    "name": "ipython",
    "version": 3
   },
   "file_extension": ".py",
   "mimetype": "text/x-python",
   "name": "python",
   "nbconvert_exporter": "python",
   "pygments_lexer": "ipython3",
   "version": "3.8.8"
  }
 },
 "nbformat": 4,
 "nbformat_minor": 5
}
