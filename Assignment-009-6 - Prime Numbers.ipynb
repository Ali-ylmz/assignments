{
 "cells": [
  {
   "cell_type": "code",
   "execution_count": 43,
   "id": "9b16480e",
   "metadata": {},
   "outputs": [
    {
     "name": "stdout",
     "output_type": "stream",
     "text": [
      "Enter a number : 100\n",
      "[2, 3, 5, 7, 11, 13, 17, 19, 23, 29, 31, 37, 41, 43, 47, 53, 59, 61, 67, 71, 73, 79, 83, 89, 97]\n"
     ]
    }
   ],
   "source": [
    "n = int(input(\"Enter a number : \"))\n",
    "prime = [2, 3, 5, 7]\n",
    "prime_list = []\n",
    "\n",
    "\n",
    "for i in range(1, n+1):\n",
    "    if i > 7 and i % 2 != 0 :\n",
    "        x = int((i-1)/2)                \n",
    "        p = 0\n",
    "        \n",
    "        for j in range(3, x+1):\n",
    "            if i % j == 0:\n",
    "                p +=1\n",
    "            else:\n",
    "                None\n",
    "        if p == 0:\n",
    "            prime_list.append(i)\n",
    "        else:\n",
    "            None\n",
    "            \n",
    "    elif i in prime:\n",
    "        prime_list.append(i)\n",
    "    else:\n",
    "        None\n",
    "\n",
    "print(prime_list)\n",
    "\n",
    "                \n",
    "        "
   ]
  }
 ],
 "metadata": {
  "kernelspec": {
   "display_name": "Python 3",
   "language": "python",
   "name": "python3"
  },
  "language_info": {
   "codemirror_mode": {
    "name": "ipython",
    "version": 3
   },
   "file_extension": ".py",
   "mimetype": "text/x-python",
   "name": "python",
   "nbconvert_exporter": "python",
   "pygments_lexer": "ipython3",
   "version": "3.8.8"
  }
 },
 "nbformat": 4,
 "nbformat_minor": 5
}
