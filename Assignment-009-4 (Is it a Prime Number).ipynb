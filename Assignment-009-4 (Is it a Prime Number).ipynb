{
 "cells": [
  {
   "cell_type": "markdown",
   "id": "ef6deea7",
   "metadata": {},
   "source": [
    "# Assignment-009/4 (Is it a Prime Number?)"
   ]
  },
  {
   "cell_type": "code",
   "execution_count": 86,
   "id": "a052a059",
   "metadata": {
    "scrolled": true
   },
   "outputs": [
    {
     "name": "stdout",
     "output_type": "stream",
     "text": [
      "Enter a positive number : 5\n",
      "5 is a prime number\n"
     ]
    }
   ],
   "source": [
    "number = int(input(\"Enter a positive number : \"))\n",
    "\n",
    "liste = [2, 3 , 5, 7]\n",
    "half_number = int((number+1)/2)\n",
    "kalan = []\n",
    "\n",
    "if number > 10 :\n",
    "    if number % 2 != 0 :\n",
    "        for i in range(3, half_number):\n",
    "            kalan.append(number % i)\n",
    "        if 0 in kalan:\n",
    "            print(\"{} is not a prime number\".format(number))\n",
    "        else:\n",
    "            print(\"{} is a prime number\".format(number))\n",
    "    else:\n",
    "        print(\"{} is not a prime number\".format(number))\n",
    "else:\n",
    "    if number in liste:\n",
    "        print(\"{} is a prime number\".format(number))\n",
    "    else:\n",
    "        print(\"{} is not a prime number\".format(number))\n",
    "        \n",
    "        "
   ]
  }
 ],
 "metadata": {
  "kernelspec": {
   "display_name": "Python 3",
   "language": "python",
   "name": "python3"
  },
  "language_info": {
   "codemirror_mode": {
    "name": "ipython",
    "version": 3
   },
   "file_extension": ".py",
   "mimetype": "text/x-python",
   "name": "python",
   "nbconvert_exporter": "python",
   "pygments_lexer": "ipython3",
   "version": "3.8.8"
  }
 },
 "nbformat": 4,
 "nbformat_minor": 5
}
