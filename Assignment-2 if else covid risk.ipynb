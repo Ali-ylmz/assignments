{
 "cells": [
  {
   "cell_type": "code",
   "execution_count": 10,
   "id": "81504439",
   "metadata": {},
   "outputs": [
    {
     "name": "stdout",
     "output_type": "stream",
     "text": [
      "Are you a cigarette addict older than 75 years old? : false\n",
      "Do you have a severe chronic disease? : FAlse\n",
      "Is your immune system too weak? : False\n",
      "You are not in risky group\n"
     ]
    }
   ],
   "source": [
    "age = input(\"Are you a cigarette addict older than 75 years old? : \")\n",
    "chronic = input(\"Do you have a severe chronic disease? : \")\n",
    "immune = input(\"Is your immune system too weak? : \")\n",
    "\n",
    "if (age.title()) == \"True\":\n",
    "    age = True\n",
    "else:\n",
    "    age = False\n",
    "    \n",
    "if (chronic.title()) == \"True\":\n",
    "    chronic = True\n",
    "else:\n",
    "    chronic = False\n",
    "\n",
    "if (immune.title()) == \"True\":\n",
    "    immune = True\n",
    "else:\n",
    "    immune = False\n",
    "    \n",
    "\n",
    "if (age or chronic or immune):\n",
    "    print(\"You are in risky group\")\n",
    "else:\n",
    "    print(\"You are not in risky group\")"
   ]
  }
 ],
 "metadata": {
  "kernelspec": {
   "display_name": "Python 3",
   "language": "python",
   "name": "python3"
  },
  "language_info": {
   "codemirror_mode": {
    "name": "ipython",
    "version": 3
   },
   "file_extension": ".py",
   "mimetype": "text/x-python",
   "name": "python",
   "nbconvert_exporter": "python",
   "pygments_lexer": "ipython3",
   "version": "3.8.8"
  }
 },
 "nbformat": 4,
 "nbformat_minor": 5
}
