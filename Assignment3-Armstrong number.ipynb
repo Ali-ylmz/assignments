{
 "cells": [
  {
   "cell_type": "code",
   "execution_count": 24,
   "id": "1cefaf32",
   "metadata": {},
   "outputs": [
    {
     "name": "stdout",
     "output_type": "stream",
     "text": [
      "Enter a positive integer number : 93084\n",
      "93084 is an Armstrong number\n"
     ]
    }
   ],
   "source": [
    "kontrol = set(\"0123456789\")\n",
    "numbers = input(\"Enter a positive integer number : \")\n",
    "\n",
    "set_numbers = set(numbers)\n",
    "list_numbers = list(numbers)    \n",
    "x = len(numbers)\n",
    "sum_numbers = 0\n",
    "\n",
    "if not (set_numbers - kontrol):\n",
    "    \n",
    "    for i in range(x):\n",
    "        element = (int(list_numbers[i])**x)\n",
    "        sum_numbers += element\n",
    "    \n",
    "    if (sum_numbers == int(numbers)):\n",
    "        print(\"{} is an Armstrong number\".format(int(numbers)))\n",
    "    else:\n",
    "        print(\"{} is not an Armstrong number\".format(int(numbers)))\n",
    "        \n",
    "else:\n",
    "    print(\"It is an invalid entry. Don't use non-numeric, float, or negative values!\")"
   ]
  }
 ],
 "metadata": {
  "kernelspec": {
   "display_name": "Python 3",
   "language": "python",
   "name": "python3"
  },
  "language_info": {
   "codemirror_mode": {
    "name": "ipython",
    "version": 3
   },
   "file_extension": ".py",
   "mimetype": "text/x-python",
   "name": "python",
   "nbconvert_exporter": "python",
   "pygments_lexer": "ipython3",
   "version": "3.8.8"
  }
 },
 "nbformat": 4,
 "nbformat_minor": 5
}
